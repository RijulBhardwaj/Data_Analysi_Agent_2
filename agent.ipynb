{
 "cells": [
  {
   "cell_type": "code",
   "execution_count": null,
   "metadata": {},
   "outputs": [],
   "source": [
    "import os\n",
    "import openai\n",
    "from dotenv import load_dotenv, find_dotenv\n",
    "from autogen.agentchat.contrib.gpt_assistant_agent import GPTAssistantAgent\n",
    "from autogen import UserProxyAgent"
   ]
  },
  {
   "cell_type": "code",
   "execution_count": null,
   "metadata": {},
   "outputs": [],
   "source": [
    "# Specify the path to your CSV file\n",
    "file_path = 'Amazon_Sale_Report.csv'\n",
    "# Read the CSV file into a DataFrame\n",
    "df = pd.read_csv(file_path)\n",
    "# Display the first few rows of the data\n",
    "print(df.head())"
   ]
  },
  {
   "cell_type": "code",
   "execution_count": null,
   "metadata": {},
   "outputs": [],
   "source": [
    "file = client.files.create(\n",
    "    file=open(\"C:\\Users\\Rijul Bhardwaj\\.cursor-tutor\\GoodGist Assignment\\Amazon_Sale_Report.csv\", \"rb\"),  # Ensure the correct file path\n",
    "    purpose=\"assistants\"\n",
    ")"
   ]
  },
  {
   "cell_type": "code",
   "execution_count": null,
   "metadata": {},
   "outputs": [],
   "source": [
    "# getting pyautogen==0.2.0b5 as its the latest but it runs on python3.11.9 hence that envirement has been used.\n",
    "load_dotenv(find_dotenv(), override=True)\n",
    "\n",
    "openai.api_key = os.environ.get('OPENAI_API_KEY')\n",
    "\n",
    "# Create an OpenAI client\n",
    "client = openai.OpenAI(api_key=openai.api_key)  "
   ]
  },
  {
   "cell_type": "code",
   "execution_count": null,
   "metadata": {},
   "outputs": [],
   "source": [
    "assistant = client.beta.assistants.create(\n",
    "    name=\"Python_Developer\",\n",
    "    instructions=\"You are an expert Python developer.\",\n",
    "    model=\"gpt-4-1106-preview\",  \n",
    "    file_ids=[file.id],\n",
    "    tools=[{\"type\": \"code_interpreter\"}]\n",
    ")"
   ]
  },
  {
   "cell_type": "code",
   "execution_count": null,
   "metadata": {},
   "outputs": [],
   "source": [
    "ilm_config = {\n",
    "    \"assistant_id\": assistant.id\n",
    "}"
   ]
  },
  {
   "cell_type": "code",
   "execution_count": null,
   "metadata": {},
   "outputs": [],
   "source": [
    "gpt_assistant = GPTAssistantAgent(\n",
    "    name=\"Coder Assistant\",\n",
    "    instructions=\"\"\"\n",
    "    You are an expert at writing Python code to analyze data. Reply TERMINATE when the task has been solved.\n",
    "    \"\"\",\n",
    "    ilm_config=ilm_config\n",
    ")"
   ]
  },
  {
   "cell_type": "code",
   "execution_count": null,
   "metadata": {},
   "outputs": [],
   "source": [
    "user_proxy = UserProxyAgent(\n",
    "    name=\"Rijul\",\n",
    "    code_execution_config={\"work_dir\": \"coding\"}\n",
    ")\n",
    "\n",
    "\n",
    "task = \"\"\"\n",
    "I want the following analyses from the data:\n",
    "1. Top 5 products with the highest sales.\n",
    "2. Number of orders placed in the last month.\n",
    "3. Average revenue per category.\n",
    "4. Total revenue.\n",
    "5. Summary statistics of the 'Price' column (average, median, standard deviation).\n",
    "6. Filter all rows where 'Region' is 'Europe'.\n",
    "7. Sort the data by 'Date' in descending order.\n",
    "8. Clean the data by removing missing values and duplicates.\n",
    "9. Plot a line chart showing sales over time.\n",
    "10. Show a bar chart of revenue per product.\n",
    "\"\"\"\n",
    "user_proxy.initiate_chat(gpt_assistant, message=task)\n",
    "\n"
   ]
  },
  {
   "cell_type": "markdown",
   "metadata": {},
   "source": []
  },
  {
   "cell_type": "code",
   "execution_count": null,
   "metadata": {},
   "outputs": [],
   "source": [
    "gpt_assistant.delete_assistant()"
   ]
  }
 ],
 "metadata": {
  "kernelspec": {
   "display_name": "myenv",
   "language": "python",
   "name": "python3"
  },
  "language_info": {
   "codemirror_mode": {
    "name": "ipython",
    "version": 3
   },
   "file_extension": ".py",
   "mimetype": "text/x-python",
   "name": "python",
   "nbconvert_exporter": "python",
   "pygments_lexer": "ipython3",
   "version": "3.11.9"
  }
 },
 "nbformat": 4,
 "nbformat_minor": 2
}
