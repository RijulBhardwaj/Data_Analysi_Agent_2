{
 "cells": [
  {
   "cell_type": "code",
   "execution_count": null,
   "metadata": {},
   "outputs": [],
   "source": [
    "import os\n",
    "import openai\n",
    "from dotenv import load_dotenv, find_dotenv\n",
    "from autogen.agentchat.contrib.gpt_assistant_agent import GPTAssistantAgent\n",
    "from autogen import UserProxyAgent"
   ]
  },
  {
   "cell_type": "code",
   "execution_count": null,
   "metadata": {},
   "outputs": [],
   "source": [
    "# Specify the path to your CSV file\n",
    "file_path = 'Amazon_Sale_Report.csv'\n",
    "# Read the CSV file into a DataFrame\n",
    "df = pd.read_csv(file_path)\n",
    "# Display the first few rows of the data\n",
    "print(df.head())"
   ]
  },
  {
   "cell_type": "code",
   "execution_count": null,
   "metadata": {},
   "outputs": [],
   "source": [
    "file = client.files.create(\n",
    "    file=open(\"C:\\Users\\Rijul Bhardwaj\\.cursor-tutor\\GoodGist Assignment\\Amazon_Sale_Report.csv\", \"rb\"),  # Ensure the correct file path\n",
    "    purpose=\"assistants\"\n",
    ")"
   ]
  },
  {
   "cell_type": "code",
   "execution_count": null,
   "metadata": {},
   "outputs": [],
   "source": [
    "# getting pyautogen==0.2.0b5 as its the latest but it runs on python3.11.9 hence that envirement has been used.\n",
    "load_dotenv(find_dotenv(), override=True)\n",
    "\n",
    "openai.api_key = os.environ.get('OPENAI_API_KEY')\n",
    "\n",
    "# Create an OpenAI client\n",
    "client = openai.OpenAI(api_key=openai.api_key)  "
   ]
  },
  {
   "cell_type": "code",
   "execution_count": null,
   "metadata": {},
   "outputs": [],
   "source": [
    "assistant = client.beta.assistants.create(\n",
    "    name=\"Python_Developer\",\n",
    "    instructions=\"You are an expert Python developer.\",\n",
    "    model=\"gpt-4-1106-preview\",  \n",
    "    file_ids=[file.id],\n",
    "    tools=[{\"type\": \"code_interpreter\"}]\n",
    ")"
   ]
  },
  {
   "cell_type": "code",
   "execution_count": null,
   "metadata": {},
   "outputs": [],
   "source": [
    "ilm_config = {\n",
    "    \"assistant_id\": assistant.id\n",
    "}"
   ]
  },
  {
   "cell_type": "code",
   "execution_count": null,
   "metadata": {},
   "outputs": [],
   "source": [
    "gpt_assistant = GPTAssistantAgent(\n",
    "    name=\"Coder Assistant\",\n",
    "    instructions=\"\"\"\n",
    "    You are an expert at writing Python code to analyze data. Reply TERMINATE when the task has been solved.\n",
    "    \"\"\",\n",
    "    ilm_config=ilm_config\n",
    ")"
   ]
  },
  {
   "cell_type": "code",
   "execution_count": null,
   "metadata": {},
   "outputs": [],
   "source": [
    "user_proxy = UserProxyAgent(\n",
    "    name=\"Rijul\",\n",
    "    code_execution_config={\"work_dir\": \"coding\"}\n",
    ")\n",
    "\n",
    "\n",
    "task = \"\"\"\n",
    "You are an advanced data analysis assistant.\n",
    "Your goal is to assist users by analyzing datasets and providing insights based on their queries. \n",
    "You should be able to handle a variety of tasks related to data analysis, filtering, cleaning, and visualization. \n",
    "\n",
    "Here are the types of tasks and questions you should be able to process:\n",
    "\n",
    "Top Products and Orders:\n",
    "\n",
    "Task: Determine the top 5 products with the highest sales.\n",
    "Task: Calculate the number of orders placed in the last month.\n",
    "Revenue and Summary Statistics:\n",
    "\n",
    "Task: Compute and display the average revenue per category.\n",
    "Task: Provide the total revenue.\n",
    "Task: Calculate and present the average, median, and standard deviation of the 'Price' column.\n",
    "Data Filtering and Sorting:\n",
    "\n",
    "Task: Filter the dataset to show all rows where the 'Region' is 'Europe'.\n",
    "Task: Sort the dataset by the 'Date' column in descending order.\n",
    "Data Cleaning Suggestions:\n",
    "\n",
    "Task: Identify invalid values, missing entries, or duplicates in the dataset and suggest or apply cleaning steps.\n",
    "Visualization:\n",
    "\n",
    "Task: Generate a line chart to show sales over time.\n",
    "Task: Create a bar chart displaying revenue per product.\n",
    "Framework Recommendations:\n",
    "\n",
    "Dynamic Query Handling:\n",
    "\n",
    "Implement mechanisms to parse and execute user queries dynamically.\n",
    "Data Analysis and Visualization:\n",
    "\n",
    "Utilize appropriate data analysis and visualization libraries to process and display insights.\n",
    "Data Cleaning Automation:\n",
    "\n",
    "Incorporate routines to automatically identify and address data quality issues.\n",
    "User Interface:\n",
    "\n",
    "Design an intuitive interface for users to submit queries and view results.\n",
    "\n",
    "\"\"\"\n",
    "user_proxy.initiate_chat(gpt_assistant, message=task)\n",
    "\n"
   ]
  },
  {
   "cell_type": "markdown",
   "metadata": {},
   "source": []
  },
  {
   "cell_type": "code",
   "execution_count": null,
   "metadata": {},
   "outputs": [],
   "source": [
    "gpt_assistant.delete_assistant()"
   ]
  }
 ],
 "metadata": {
  "kernelspec": {
   "display_name": "myenv",
   "language": "python",
   "name": "python3"
  },
  "language_info": {
   "codemirror_mode": {
    "name": "ipython",
    "version": 3
   },
   "file_extension": ".py",
   "mimetype": "text/x-python",
   "name": "python",
   "nbconvert_exporter": "python",
   "pygments_lexer": "ipython3",
   "version": "3.11.9"
  }
 },
 "nbformat": 4,
 "nbformat_minor": 2
}
